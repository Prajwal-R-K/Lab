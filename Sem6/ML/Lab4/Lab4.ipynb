{
 "cells": [
  {
   "cell_type": "code",
   "execution_count": 12,
   "metadata": {},
   "outputs": [],
   "source": [
    "import pandas as pd\n",
    "\n",
    "df= pd.read_csv('data.csv')"
   ]
  },
  {
   "cell_type": "code",
   "execution_count": 13,
   "metadata": {},
   "outputs": [],
   "source": [
    "def find_S_algorithm(df, target_attribute):\n",
    "    positive_examples = df[df[target_attribute].isin([1, \"Yes\", True])]\n",
    "\n",
    "    attributes = df.columns.tolist()\n",
    "    attributes.remove(target_attribute)\n",
    "\n",
    "    first_positive = positive_examples.iloc[0]\n",
    "    h = {attr: first_positive[attr] for attr in attributes}\n",
    "\n",
    "    for i, example in positive_examples.iterrows():\n",
    "        for attr in attributes:\n",
    "            if h[attr] != example[attr]:\n",
    "                h[attr] = \"?\"\n",
    "    return h"
   ]
  },
  {
   "cell_type": "code",
   "execution_count": 17,
   "metadata": {},
   "outputs": [
    {
     "name": "stdout",
     "output_type": "stream",
     "text": [
      "['>=9', 'Yes', '?', 'Good', '?', '?']\n"
     ]
    }
   ],
   "source": [
    "hypothesis = find_S_algorithm(df, \"Job offer\")\n",
    "print(list(hypothesis.values()))"
   ]
  }
 ],
 "metadata": {
  "kernelspec": {
   "display_name": ".venv",
   "language": "python",
   "name": "python3"
  },
  "language_info": {
   "codemirror_mode": {
    "name": "ipython",
    "version": 3
   },
   "file_extension": ".py",
   "mimetype": "text/x-python",
   "name": "python",
   "nbconvert_exporter": "python",
   "pygments_lexer": "ipython3",
   "version": "3.10.12"
  }
 },
 "nbformat": 4,
 "nbformat_minor": 2
}
