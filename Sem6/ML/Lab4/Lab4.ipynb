{
 "cells": [
  {
   "cell_type": "code",
   "execution_count": 2,
   "metadata": {},
   "outputs": [],
   "source": [
    "import pandas as pd\n",
    "import numpy as np\n",
    "import os\n",
    "\n",
    "df= pd.read_csv('data.csv')"
   ]
  },
  {
   "cell_type": "code",
   "execution_count": 3,
   "metadata": {},
   "outputs": [
    {
     "data": {
      "text/plain": [
       "<bound method NDFrame.head of   CGPA Interactivness Practial Knowledge Communication Logical Thinking  \\\n",
       "0  >=9            Yes          Excellent          Good             Fast   \n",
       "1  >=9            Yes               Good          Good             Fast   \n",
       "2  >=8             No               Good          Good             Fast   \n",
       "3  >=9            Yes               Good          Good             Slow   \n",
       "\n",
       "  Interest Job offer  \n",
       "0      Yes       Yes  \n",
       "1      Yes       Yes  \n",
       "2       No        No  \n",
       "3       No       Yes  >"
      ]
     },
     "execution_count": 3,
     "metadata": {},
     "output_type": "execute_result"
    }
   ],
   "source": [
    "df.head"
   ]
  },
  {
   "cell_type": "code",
   "execution_count": 6,
   "metadata": {},
   "outputs": [],
   "source": [
    "def find_S_algorithm(df, target_attribute):\n",
    "    positive_examples = df[df[target_attribute].isin([1, \"Yes\", True])]\n",
    "\n",
    "    attributes = df.columns.tolist()\n",
    "    attributes.remove(target_attribute)\n",
    "\n",
    "    first_positive = positive_examples.iloc[0]\n",
    "    h = {attr: first_positive[attr] for attr in attributes}\n",
    "\n",
    "    for i, example in positive_examples.iterrows():\n",
    "        for attr in attributes:\n",
    "            if h[attr] != example[attr]:\n",
    "                h[attr] = \"?\"\n",
    "    return h"
   ]
  },
  {
   "cell_type": "code",
   "execution_count": 8,
   "metadata": {},
   "outputs": [
    {
     "name": "stdout",
     "output_type": "stream",
     "text": [
      "{'CGPA': '>=9', 'Interactivness': 'Yes', 'Practial Knowledge': '?', 'Communication': 'Good', 'Logical Thinking': '?', 'Interest': '?'}\n"
     ]
    }
   ],
   "source": [
    "hypothesis = find_S_algorithm(df, \"Job offer\")\n",
    "print(hypothesis)"
   ]
  }
 ],
 "metadata": {
  "kernelspec": {
   "display_name": ".venv",
   "language": "python",
   "name": "python3"
  },
  "language_info": {
   "codemirror_mode": {
    "name": "ipython",
    "version": 3
   },
   "file_extension": ".py",
   "mimetype": "text/x-python",
   "name": "python",
   "nbconvert_exporter": "python",
   "pygments_lexer": "ipython3",
   "version": "3.10.12"
  }
 },
 "nbformat": 4,
 "nbformat_minor": 2
}
