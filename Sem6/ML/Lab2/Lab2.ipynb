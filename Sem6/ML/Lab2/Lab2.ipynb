{
 "cells": [
  {
   "cell_type": "code",
   "execution_count": 3,
   "metadata": {},
   "outputs": [],
   "source": [
    "# Import the necessary libraries\n",
    "import numpy as np\n",
    "import pandas as pd\n",
    "import matplotlib.pyplot as plt\n",
    "import seaborn as sns\n",
    "from sklearn.datasets import fetch_california_housing\n"
   ]
  },
  {
   "cell_type": "code",
   "execution_count": 4,
   "metadata": {},
   "outputs": [
    {
     "name": "stdout",
     "output_type": "stream",
     "text": []
    },
    {
     "name": "stdout",
     "output_type": "stream",
     "text": []
    }
   ],
   "source": [
    "# Load the California Housing dataset\n",
    "housing = fetch_california_housing()\n",
    "\n",
    "# Convert to Pandas DataFrame for easier manipulation\n",
    "df = pd.DataFrame(housing.data, columns=housing.feature_names)\n",
    "\n",
    "# Add the target variable (house prices) to the DataFrame\n",
    "df['PRICE'] = housing.target\n",
    "\n",
    "# Display the first few rows of the dataset\n",
    "print(\"Dataset Overview:\")\n",
    "print(f\"Number of samples: {df.shape[0]}\")\n",
    "print(f\"Number of features: {df.shape[1] - 1}\")\n",
    "print(\"\\nFeature descriptions:\")\n",
    "for i, desc in enumerate(housing.feature_names):\n",
    "    print(f\"- {desc}\")\n",
    "\n",
    "df.head()"
   ]
  },
  {
   "cell_type": "code",
   "execution_count": 5,
   "metadata": {},
   "outputs": [
    {
     "name": "stdout",
     "output_type": "stream",
     "text": []
    }
   ],
   "source": [
    "# Display basic statistics of the dataset\n",
    "df.describe()"
   ]
  },
  {
   "cell_type": "code",
   "execution_count": 6,
   "metadata": {},
   "outputs": [
    {
     "name": "stdout",
     "output_type": "stream",
     "text": []
    },
    {
     "name": "stdout",
     "output_type": "stream",
     "text": []
    }
   ],
   "source": [
    "# Compute the correlation matrix\n",
    "corr_matrix = df.corr()\n",
    "\n",
    "# Display the correlation matrix\n",
    "print(\"Correlation Matrix:\")\n",
    "corr_matrix"
   ]
  },
  {
   "cell_type": "code",
   "execution_count": 7,
   "metadata": {},
   "outputs": [
    {
     "name": "stdout",
     "output_type": "stream",
     "text": []
    }
   ],
   "source": [
    "# Visualize the correlation matrix using a heatmap\n",
    "plt.figure(figsize=(12, 10))\n",
    "mask = np.triu(np.ones_like(corr_matrix, dtype=bool))  # Create a mask for the upper triangle\n",
    "\n",
    "# Generate a custom diverging colormap\n",
    "cmap = sns.diverging_palette(230, 20, as_cmap=True)\n",
    "\n",
    "# Draw the heatmap with the mask and correct aspect ratio\n",
    "sns.heatmap(corr_matrix, mask=mask, cmap=cmap, vmax=.3, center=0,\n",
    "            square=True, linewidths=.5, cbar_kws={\"shrink\": .5}, annot=True)\n",
    "\n",
    "plt.title('Correlation Matrix Heatmap', fontsize=16)\n",
    "plt.tight_layout()\n",
    "plt.show()"
   ]
  },
  {
   "cell_type": "markdown",
   "metadata": {},
   "source": [
    "### Observations from Correlation Matrix:\n",
    "\n",
    "- Features with strong positive correlations (values close to 1) indicate that as one feature increases, the other also tends to increase.\n",
    "- Features with strong negative correlations (values close to -1) indicate that as one feature increases, the other tends to decrease.\n",
    "- Features with correlations close to 0 have little to no linear relationship."
   ]
  },
  {
   "cell_type": "code",
   "execution_count": 8,
   "metadata": {},
   "outputs": [
    {
     "name": "stdout",
     "output_type": "stream",
     "text": []
    },
    {
     "name": "stdout",
     "output_type": "stream",
     "text": []
    }
   ],
   "source": [
    "# Create a pair plot to visualize pairwise relationships\n",
    "# Note: Using a subset of features to make the plot more readable\n",
    "features_to_plot = ['MedInc', 'HouseAge', 'AveRooms', 'AveOccup', 'PRICE']\n",
    "plt.figure(figsize=(12, 8))\n",
    "sns.pairplot(df[features_to_plot], height=2.5, diag_kind='kde', plot_kws={'alpha': 0.6, 's': 15, 'edgecolor': 'k'})\n",
    "plt.suptitle('Pair Plot of California Housing Features', y=1.02, fontsize=16)\n",
    "plt.tight_layout()\n",
    "plt.show()"
   ]
  },
  {
   "cell_type": "code",
   "execution_count": null,
   "metadata": {},
   "outputs": [],
   "source": [
    "# Optional: Create a more comprehensive pair plot with all features\n",
    "# Warning: This may take a long time to render due to the number of features\n",
    "# Uncomment the following code to run it\n",
    "\n",
    "# plt.figure(figsize=(20, 15))\n",
    "# sns.pairplot(df, height=2, plot_kws={'alpha': 0.5, 's': 10, 'edgecolor': 'k'})\n",
    "# plt.suptitle('Comprehensive Pair Plot of California Housing Features', y=1.02, fontsize=16)\n",
    "# plt.tight_layout()\n",
    "# plt.show()"
   ]
  },
  {
   "cell_type": "markdown",
   "metadata": {},
   "source": [
    "### Conclusions:\n",
    "\n",
    "1. The correlation heatmap reveals relationships between different housing features.\n",
    "2. The median income (`MedInc`) has the strongest positive correlation with housing prices.\n",
    "3. The pair plot shows the distribution of each feature and the relationships between pairs of features.\n",
    "4. Some features show clear linear relationships while others have more complex non-linear relationships.\n",
    "5. This analysis helps understand which factors most strongly influence housing prices in California."
   ]
  }
 ],
 "metadata": {
  "kernelspec": {
   "display_name": ".venv",
   "language": "python",
   "name": "python3"
  },
  "language_info": {
   "codemirror_mode": {
    "name": "ipython",
    "version": 3
   },
   "file_extension": ".py",
   "mimetype": "text/x-python",
   "name": "python",
   "nbconvert_exporter": "python",
   "pygments_lexer": "ipython3",
   "version": "3.10.12"
  }
 },
 "nbformat": 4,
 "nbformat_minor": 2
}
