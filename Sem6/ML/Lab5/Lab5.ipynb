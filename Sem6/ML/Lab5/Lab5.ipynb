{
 "cells": [
  {
   "cell_type": "code",
   "execution_count": 1,
   "id": "7cb63a63",
   "metadata": {},
   "outputs": [],
   "source": [
    "import numpy as np\n",
    "import pandas as pd\n",
    "from sklearn.neighbors import KNeighborsClassifier\n",
    "from sklearn.metrics import accuracy_score"
   ]
  },
  {
   "cell_type": "code",
   "execution_count": 4,
   "id": "3b95bc4f",
   "metadata": {},
   "outputs": [
    {
     "name": "stdout",
     "output_type": "stream",
     "text": [
      "Accuracy for k=1: 100.00%\n",
      "Accuracy for k=2: 100.00%\n",
      "Accuracy for k=3: 94.00%\n",
      "Accuracy for k=4: 96.00%\n",
      "Accuracy for k=5: 92.00%\n",
      "Accuracy for k=20: 94.00%\n",
      "Accuracy for k=30: 90.00%\n"
     ]
    },
    {
     "name": "stderr",
     "output_type": "stream",
     "text": [
      "/tmp/ipykernel_6927/3055285151.py:38: SettingWithCopyWarning: \n",
      "A value is trying to be set on a copy of a slice from a DataFrame.\n",
      "Try using .loc[row_indexer,col_indexer] = value instead\n",
      "\n",
      "See the caveats in the documentation: https://pandas.pydata.org/pandas-docs/stable/user_guide/indexing.html#returning-a-view-versus-a-copy\n",
      "  unlabeled_df[f\"Label_k{k}\"] = predictions\n",
      "/tmp/ipykernel_6927/3055285151.py:38: SettingWithCopyWarning: \n",
      "A value is trying to be set on a copy of a slice from a DataFrame.\n",
      "Try using .loc[row_indexer,col_indexer] = value instead\n",
      "\n",
      "See the caveats in the documentation: https://pandas.pydata.org/pandas-docs/stable/user_guide/indexing.html#returning-a-view-versus-a-copy\n",
      "  unlabeled_df[f\"Label_k{k}\"] = predictions\n",
      "/tmp/ipykernel_6927/3055285151.py:38: SettingWithCopyWarning: \n",
      "A value is trying to be set on a copy of a slice from a DataFrame.\n",
      "Try using .loc[row_indexer,col_indexer] = value instead\n",
      "\n",
      "See the caveats in the documentation: https://pandas.pydata.org/pandas-docs/stable/user_guide/indexing.html#returning-a-view-versus-a-copy\n",
      "  unlabeled_df[f\"Label_k{k}\"] = predictions\n",
      "/tmp/ipykernel_6927/3055285151.py:38: SettingWithCopyWarning: \n",
      "A value is trying to be set on a copy of a slice from a DataFrame.\n",
      "Try using .loc[row_indexer,col_indexer] = value instead\n",
      "\n",
      "See the caveats in the documentation: https://pandas.pydata.org/pandas-docs/stable/user_guide/indexing.html#returning-a-view-versus-a-copy\n",
      "  unlabeled_df[f\"Label_k{k}\"] = predictions\n",
      "/tmp/ipykernel_6927/3055285151.py:38: SettingWithCopyWarning: \n",
      "A value is trying to be set on a copy of a slice from a DataFrame.\n",
      "Try using .loc[row_indexer,col_indexer] = value instead\n",
      "\n",
      "See the caveats in the documentation: https://pandas.pydata.org/pandas-docs/stable/user_guide/indexing.html#returning-a-view-versus-a-copy\n",
      "  unlabeled_df[f\"Label_k{k}\"] = predictions\n",
      "/tmp/ipykernel_6927/3055285151.py:38: SettingWithCopyWarning: \n",
      "A value is trying to be set on a copy of a slice from a DataFrame.\n",
      "Try using .loc[row_indexer,col_indexer] = value instead\n",
      "\n",
      "See the caveats in the documentation: https://pandas.pydata.org/pandas-docs/stable/user_guide/indexing.html#returning-a-view-versus-a-copy\n",
      "  unlabeled_df[f\"Label_k{k}\"] = predictions\n",
      "/tmp/ipykernel_6927/3055285151.py:38: SettingWithCopyWarning: \n",
      "A value is trying to be set on a copy of a slice from a DataFrame.\n",
      "Try using .loc[row_indexer,col_indexer] = value instead\n",
      "\n",
      "See the caveats in the documentation: https://pandas.pydata.org/pandas-docs/stable/user_guide/indexing.html#returning-a-view-versus-a-copy\n",
      "  unlabeled_df[f\"Label_k{k}\"] = predictions\n"
     ]
    }
   ],
   "source": [
    "values = np.random.rand(100)\n",
    "labels = []\n",
    "\n",
    "for i in values[:50]:\n",
    "    if i <= 0.5:\n",
    "        labels.append(\"Class1\")\n",
    "    else:\n",
    "        labels.append(\"Class2\")\n",
    "\n",
    "labels += [None] * 50\n",
    "\n",
    "data = {\"Point\": [f\"x{i+1}\" for i in range(100)], \"Value\": values, \"Label\": labels}\n",
    "df = pd.DataFrame(data)\n",
    "\n",
    "labelled_df = df[df[\"Label\"].notna()]\n",
    "unlabeled_df = df[df[\"Label\"].isna()]\n",
    "\n",
    "X_train = labelled_df[[\"Value\"]]\n",
    "y_train = labelled_df[\"Label\"]\n",
    "\n",
    "X_test = unlabeled_df[[\"Value\"]]\n",
    "\n",
    "k_values = [1, 2, 3, 4, 5, 20, 30]\n",
    "\n",
    "results = {}\n",
    "accuracies = {}\n",
    "\n",
    "true_labels = [\"Class1\" if x <= 0.5 else \"Class2\" for x in values[50:]]\n",
    "\n",
    "for k in k_values:\n",
    "    knn = KNeighborsClassifier(n_neighbors=k)\n",
    "    knn.fit(X_train, y_train)\n",
    "    predictions = knn.predict(X_test)\n",
    "    results[k] = predictions\n",
    "    accuracy = accuracy_score(true_labels, predictions) * 100\n",
    "    accuracies[k] = accuracy\n",
    "    print(f\"Accuracy for k={k}: {accuracy:.2f}%\")\n",
    "    unlabeled_df[f\"Label_k{k}\"] = predictions"
   ]
  }
 ],
 "metadata": {
  "kernelspec": {
   "display_name": ".venv",
   "language": "python",
   "name": "python3"
  },
  "language_info": {
   "codemirror_mode": {
    "name": "ipython",
    "version": 3
   },
   "file_extension": ".py",
   "mimetype": "text/x-python",
   "name": "python",
   "nbconvert_exporter": "python",
   "pygments_lexer": "ipython3",
   "version": "3.10.12"
  }
 },
 "nbformat": 4,
 "nbformat_minor": 5
}
