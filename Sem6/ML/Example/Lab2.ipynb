{
 "cells": [
  {
   "cell_type": "code",
   "execution_count": 42,
   "metadata": {},
   "outputs": [],
   "source": [
    "import pandas as pd"
   ]
  },
  {
   "cell_type": "code",
   "execution_count": 43,
   "metadata": {},
   "outputs": [
    {
     "name": "stdout",
     "output_type": "stream",
     "text": [
      "   id    first       last  gender  marks  selected\n",
      "0   1    Leone    Debrick  Female     50         1\n",
      "1   2   Romola  Prinnessy  Female     60         0\n",
      "2   3     Geri      Prium    Male     65         0\n",
      "3   4    Sandy   Doveston  Female     95         0\n",
      "4   5  Jecenta     Jansik  Female     31         1\n"
     ]
    }
   ],
   "source": [
    "df= pd.read_csv('data.csv')\n",
    "print(df)"
   ]
  },
  {
   "cell_type": "code",
   "execution_count": 44,
   "metadata": {},
   "outputs": [
    {
     "name": "stdout",
     "output_type": "stream",
     "text": [
      "50\n"
     ]
    }
   ],
   "source": [
    "print(df.marks[0])\n"
   ]
  },
  {
   "cell_type": "code",
   "execution_count": 45,
   "metadata": {},
   "outputs": [
    {
     "name": "stdout",
     "output_type": "stream",
     "text": [
      "0    50\n",
      "1    60\n",
      "Name: marks, dtype: int64\n",
      "   id   first       last  gender  marks  selected\n",
      "1   2  Romola  Prinnessy  Female     60         0\n",
      "2   3    Geri      Prium    Male     65         0\n"
     ]
    }
   ],
   "source": [
    "print(df.marks[0:2])\n",
    "print(df[1:3])"
   ]
  },
  {
   "cell_type": "code",
   "execution_count": 46,
   "metadata": {},
   "outputs": [
    {
     "name": "stdout",
     "output_type": "stream",
     "text": [
      "   id  marks\n",
      "0   1     50\n",
      "1   2     60\n",
      "2   3     65\n",
      "3   4     95\n",
      "4   5     31\n"
     ]
    }
   ],
   "source": [
    "print(df[[\"id\", \"marks\"]])"
   ]
  },
  {
   "cell_type": "code",
   "execution_count": 47,
   "metadata": {},
   "outputs": [
    {
     "name": "stdout",
     "output_type": "stream",
     "text": [
      "    first       last\n",
      "0   Leone    Debrick\n",
      "1  Romola  Prinnessy\n"
     ]
    }
   ],
   "source": [
    "print(df.iloc[0:2, 1:3])"
   ]
  },
  {
   "cell_type": "code",
   "execution_count": 48,
   "metadata": {},
   "outputs": [
    {
     "name": "stdout",
     "output_type": "stream",
     "text": [
      "   id  marks\n",
      "0   1     50\n",
      "1   2     60\n",
      "2   3     65\n"
     ]
    }
   ],
   "source": [
    "print(df.loc[0:2, [\"id\", \"marks\"]])"
   ]
  },
  {
   "cell_type": "code",
   "execution_count": 49,
   "metadata": {},
   "outputs": [
    {
     "name": "stdout",
     "output_type": "stream",
     "text": [
      "Mean of marks: 60.2\n",
      "Sum of marks: 301\n",
      "Standard deviation of marks: 23.402991261802413\n",
      "Variance of marks: 547.7\n"
     ]
    }
   ],
   "source": [
    "print(f\"Mean of marks: {df['marks'].mean()}\")\n",
    "print(f\"Sum of marks: {df['marks'].sum()}\")\n",
    "print(f\"Standard deviation of marks: {df['marks'].std()}\")\n",
    "print(f\"Variance of marks: {df['marks'].var()}\")"
   ]
  },
  {
   "cell_type": "code",
   "execution_count": 50,
   "metadata": {},
   "outputs": [
    {
     "name": "stdout",
     "output_type": "stream",
     "text": [
      "Median of marks: 60.0\n",
      "Mode of marks: 31\n",
      "Max of marks: 95\n",
      "Min of marks: 31\n",
      "Count of marks: 5\n"
     ]
    }
   ],
   "source": [
    "print(f\"Median of marks: {df['marks'].median()}\")\n",
    "print(f\"Mode of marks: {df['marks'].mode()[0]}\")\n",
    "print(f\"Max of marks: {df['marks'].max()}\")\n",
    "print(f\"Min of marks: {df['marks'].min()}\")\n",
    "print(f\"Count of marks: {df['marks'].count()}\")"
   ]
  },
  {
   "cell_type": "code",
   "execution_count": 51,
   "metadata": {},
   "outputs": [
    {
     "name": "stdout",
     "output_type": "stream",
     "text": [
      "   id    first       last  gender  marks  selected\n",
      "0   1    Leone    Debrick  Female     50         1\n",
      "1   2   Romola  Prinnessy  Female     60         0\n",
      "2   3     Geri      Prium    Male     65         0\n",
      "3   4    Sandy   Doveston  Female     95         0\n",
      "4   5  Jecenta     Jansik  Female     31         1\n",
      "(5, 6)\n",
      "             id      marks  selected\n",
      "count  5.000000   5.000000  5.000000\n",
      "mean   3.000000  60.200000  0.400000\n",
      "std    1.581139  23.402991  0.547723\n",
      "min    1.000000  31.000000  0.000000\n",
      "25%    2.000000  50.000000  0.000000\n",
      "50%    3.000000  60.000000  0.000000\n",
      "75%    4.000000  65.000000  1.000000\n",
      "max    5.000000  95.000000  1.000000\n"
     ]
    }
   ],
   "source": [
    "print(df.head())\n",
    "print(df.shape)\n",
    "print(df.describe())"
   ]
  },
  {
   "cell_type": "code",
   "execution_count": 52,
   "metadata": {},
   "outputs": [
    {
     "name": "stdout",
     "output_type": "stream",
     "text": [
      "      id  first   last  gender  marks  selected\n",
      "0  False  False  False   False  False     False\n",
      "1  False  False  False   False  False     False\n",
      "2  False  False  False   False  False     False\n",
      "3  False  False  False   False  False     False\n",
      "4  False  False  False   False  False     False\n",
      "     id  first  last  gender  marks  selected\n",
      "0  True   True  True    True   True      True\n",
      "1  True   True  True    True   True      True\n",
      "2  True   True  True    True   True      True\n",
      "3  True   True  True    True   True      True\n",
      "4  True   True  True    True   True      True\n",
      "   id    first       last  gender  marks  selected\n",
      "0   1    Leone    Debrick  Female     50         1\n",
      "1   2   Romola  Prinnessy  Female     60         0\n",
      "2   3     Geri      Prium    Male     65         0\n",
      "3   4    Sandy   Doveston  Female     95         0\n",
      "4   5  Jecenta     Jansik  Female     31         1\n"
     ]
    }
   ],
   "source": [
    "print(df.isnull())\n",
    "print(df.notnull())\n",
    "\n",
    "print(df.tail())"
   ]
  },
  {
   "cell_type": "code",
   "execution_count": 53,
   "metadata": {},
   "outputs": [],
   "source": [
    "import numpy as np"
   ]
  },
  {
   "cell_type": "code",
   "execution_count": 54,
   "metadata": {},
   "outputs": [
    {
     "name": "stdout",
     "output_type": "stream",
     "text": [
      "Index(['id', 'marks', 'selected'], dtype='object')\n"
     ]
    }
   ],
   "source": [
    "numerical_features = df.select_dtypes(include=[np.number]).columns\n",
    "print(numerical_features)"
   ]
  },
  {
   "cell_type": "code",
   "execution_count": 63,
   "metadata": {},
   "outputs": [],
   "source": [
    "# Import visualization libraries\n",
    "import matplotlib.pyplot as plt\n",
    "import seaborn as sns\n"
   ]
  },
  {
   "cell_type": "code",
   "execution_count": 75,
   "metadata": {},
   "outputs": [
    {
     "data": {
      "image/png": "[encoded data removed]",
      "text/plain": [
       "<Figure size 640x480 with 1 Axes>"
      ]
     },
     "metadata": {},
     "output_type": "display_data"
    }
   ],
   "source": [
    "x=[1, 2, 3, 4, 5]\n",
    "y=[10, 20, 25, 30, 35]\n",
    "plt.plot(x, y, marker='o')\n",
    "plt.title('Simple Line Plot')\n",
    "plt.xlabel('X-axis')\n",
    "plt.ylabel('Y-axis')\n",
    "plt.show()"
   ]
  }
 ],
 "metadata": {
  "kernelspec": {
   "display_name": ".venv",
   "language": "python",
   "name": "python3"
  },
  "language_info": {
   "codemirror_mode": {
    "name": "ipython",
    "version": 3
   },
   "file_extension": ".py",
   "mimetype": "text/x-python",
   "name": "python",
   "nbconvert_exporter": "python",
   "pygments_lexer": "ipython3",
   "version": "3.10.12"
  }
 },
 "nbformat": 4,
 "nbformat_minor": 2
}
